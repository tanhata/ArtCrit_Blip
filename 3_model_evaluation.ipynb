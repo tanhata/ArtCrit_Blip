# Import libraries
import json
from sklearn.metrics import accuracy_score  # Example for classification, can be changed based on metrics

# Load generated captions
with open("captions.json", "r") as f:
    generated_captions = json.load(f)

# Assuming you have a ground truth file
with open("ground_truth_captions.json", "r") as f:
    ground_truth = json.load(f)

# Example evaluation (simplified; modify as needed)
generated = list(generated_captions.values())
actual = list(ground_truth.values())

# Here, use BLEU, ROUGE, or similar metrics
# This is a placeholder example using accuracy for simplicity
accuracy = accuracy_score(actual, generated)
print(f"Model accuracy: {accuracy:.2f}")
