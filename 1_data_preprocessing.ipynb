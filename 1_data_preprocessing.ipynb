# Import necessary libraries
import os
from PIL import Image
import matplotlib.pyplot as plt
from data_utils import get_image_paths, create_data_loader

# Load image paths
image_folder = "./data/raw_images"
image_paths = get_image_paths(image_folder)

# Preview first image
img = Image.open(image_paths[0])
plt.imshow(img)
plt.title("Sample Image")
plt.show()

# Check if resizing and normalizing works
data_loader = create_data_loader(image_paths, batch_size=4)
sample_batch = next(iter(data_loader))

# Visualize preprocessed image (tensor format)
img_tensor = sample_batch[0]
img_tensor = img_tensor.permute(1, 2, 0)  # Convert from CxHxW to HxWxC
plt.imshow(img_tensor.numpy())
plt.title("Processed Image")
plt.show()
