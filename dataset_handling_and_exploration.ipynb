{
  "nbformat": 4,
  "nbformat_minor": 0,
  "metadata": {
    "colab": {
      "provenance": [],
      "authorship_tag": "ABX9TyOOG9V4yohdHSKhrE/QRkBs",
      "include_colab_link": true
    },
    "kernelspec": {
      "name": "python3",
      "display_name": "Python 3"
    },
    "language_info": {
      "name": "python"
    }
  },
  "cells": [
    {
      "cell_type": "markdown",
      "metadata": {
        "id": "view-in-github",
        "colab_type": "text"
      },
      "source": [
        "<a href=\"https://colab.research.google.com/github/tanhata/ArtCrit_Blip/blob/main/dataset_handling_and_exploration.ipynb\" target=\"_parent\"><img src=\"https://colab.research.google.com/assets/colab-badge.svg\" alt=\"Open In Colab\"/></a>"
      ]
    },
    {
      "cell_type": "code",
      "execution_count": null,
      "metadata": {
        "colab": {
          "base_uri": "https://localhost:8080/"
        },
        "id": "apco-_pz3Tal",
        "outputId": "eb1e023b-6ae5-48bc-8a75-c22e6a83821d"
      },
      "outputs": [
        {
          "output_type": "stream",
          "name": "stdout",
          "text": [
            "Downloading from https://www.kaggle.com/api/v1/datasets/download/ipythonx/wikiart-gangogh-creating-art-gan?dataset_version_number=2...\n"
          ]
        },
        {
          "output_type": "stream",
          "name": "stderr",
          "text": [
            "100%|██████████| 34.6G/34.6G [06:28<00:00, 95.7MB/s]"
          ]
        },
        {
          "output_type": "stream",
          "name": "stdout",
          "text": [
            "Extracting files...\n"
          ]
        },
        {
          "output_type": "stream",
          "name": "stderr",
          "text": [
            "\n"
          ]
        }
      ],
      "source": [
        "# Import necessary libraries\n",
        "import kagglehub\n",
        "import os\n",
        "import zipfile\n",
        "\n",
        "# Constants\n",
        "DATASET_NAME = \"ipythonx/wikiart-gangogh-creating-art-gan\"\n",
        "\n",
        "# Download latest version of the dataset\n",
        "dataset_path = kagglehub.dataset_download(DATASET_NAME)\n",
        "print(\"Path to dataset files:\", dataset_path)\n",
        "\n",
        "# Unzip any .zip files in the dataset\n",
        "zip_files = [f for f in os.listdir(dataset_path) if f.endswith('.zip')]\n",
        "for zip_file in zip_files:\n",
        "    with zipfile.ZipFile(os.path.join(dataset_path, zip_file), 'r') as zip_ref:\n",
        "        zip_ref.extractall(dataset_path)\n",
        "\n",
        "# Explore the files in the dataset\n",
        "print(\"Files in dataset:\")\n",
        "for root, dirs, files in os.walk(dataset_path):\n",
        "    for file in files:\n",
        "        print(os.path.join(root, file))\n"
      ]
    },
    {
      "cell_type": "code",
      "source": [],
      "metadata": {
        "id": "MmsnmWuX3XZ-"
      },
      "execution_count": null,
      "outputs": []
    }
  ]
}