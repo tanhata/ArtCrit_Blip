# Import libraries
from model_utils import load_blip_model, generate_caption
import matplotlib.pyplot as plt
from PIL import Image

# Load the model and processor
processor, model = load_blip_model()

# Example image path
image_path = "./data/raw_images/sample.jpg"

# Generate caption for the image
caption = generate_caption(image_path, processor, model)

# Display the image and caption
image = Image.open(image_path)
plt.imshow(image)
plt.title(caption)
plt.show()
